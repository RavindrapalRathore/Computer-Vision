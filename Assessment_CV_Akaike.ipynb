{
  "nbformat": 4,
  "nbformat_minor": 0,
  "metadata": {
    "colab": {
      "provenance": [],
      "authorship_tag": "ABX9TyPNiRafezXh8OhGUXe2q85y",
      "include_colab_link": true
    },
    "kernelspec": {
      "name": "python3",
      "display_name": "Python 3"
    },
    "language_info": {
      "name": "python"
    }
  },
  "cells": [
    {
      "cell_type": "markdown",
      "metadata": {
        "id": "view-in-github",
        "colab_type": "text"
      },
      "source": [
        "<a href=\"https://colab.research.google.com/github/RavindrapalRathore/Computer-Vision/blob/main/Assessment_CV_Akaike.ipynb\" target=\"_parent\"><img src=\"https://colab.research.google.com/assets/colab-badge.svg\" alt=\"Open In Colab\"/></a>"
      ]
    },
    {
      "cell_type": "code",
      "source": [
        "import cv2\n",
        "import numpy as np\n",
        "\n",
        "def enhance_image(image):\n",
        "    # Convert the image to grayscale\n",
        "    gray_image = cv2.cvtColor(image, cv2.COLOR_BGR2GRAY)\n",
        "\n",
        "    # Enhance the color of the grayscale image using histogram equalization\n",
        "    clahe = cv2.createCLAHE(clipLimit=2.0, tileGridSize=(8, 8))\n",
        "    enhanced_image = clahe.apply(gray_image)\n",
        "\n",
        "    return enhanced_image\n",
        "\n",
        "def get_output_image(original_image_path, fully_annotated_image_path, output_image_path):\n",
        "    # Load the original image and the fully annotated image\n",
        "    original_image = cv2.imread(original_image_path)\n",
        "    fully_annotated_image = cv2.imread(fully_annotated_image_path)\n",
        "\n",
        "    # Check if the images are loaded successfully\n",
        "    if original_image is None:\n",
        "        raise ValueError(\"Failed to load the original image\")\n",
        "\n",
        "    if fully_annotated_image is None:\n",
        "        raise ValueError(\"Failed to load the fully annotated image\")\n",
        "\n",
        "    print(\"Original Image Shape:\", original_image.shape)\n",
        "    print(\"Fully Annotated Image Shape:\", fully_annotated_image.shape)\n",
        "\n",
        "    # Resize the fully annotated image to match the size of the original image\n",
        "    fully_annotated_image_resized = cv2.resize(fully_annotated_image, (original_image.shape[1], original_image.shape[0]))\n",
        "\n",
        "    # Convert the images to multidimensional arrays\n",
        "    original_image_array = np.array(original_image)\n",
        "    fully_annotated_image_array = np.array(fully_annotated_image_resized)\n",
        "\n",
        "    # Separate the left half and right half of the fully annotated image\n",
        "    width = fully_annotated_image_array.shape[1]\n",
        "    left_half = fully_annotated_image_array[:, :width // 2, :]\n",
        "    right_half = fully_annotated_image_array[:, width // 2:, :]\n",
        "\n",
        "    # Calculate the rate of foreground (ROF) for the fully annotated image\n",
        "    total_pixels = fully_annotated_image_array.shape[0] * fully_annotated_image_array.shape[1]\n",
        "    foreground_pixels = np.count_nonzero(fully_annotated_image_array)\n",
        "    rof = foreground_pixels / total_pixels\n",
        "    print(\"Rate of Foreground (ROF):\", rof)\n",
        "\n",
        "    # Copy the annotated region (cat) to the original image\n",
        "    annotated_part = right_half if rof > 0.5 else left_half\n",
        "    original_image_array[:, width // 2:, :] = annotated_part\n",
        "\n",
        "    # Save the output image\n",
        "    output_image = cv2.cvtColor(original_image_array, cv2.COLOR_BGR2RGB)\n",
        "    cv2.imwrite(output_image_path, output_image)\n",
        "\n",
        "original_image_path = \"/content/original_image.jpg\"\n",
        "fully_annotated_image_path = \"/content/fully_annotated_image.jpg\"\n",
        "output_image_path = \"/content/p_image.jpg\"\n",
        "\n",
        "try:\n",
        "    get_output_image(original_image_path, fully_annotated_image_path, output_image_path)\n",
        "except Exception as e:\n",
        "    print(\"Error:\", e)\n"
      ],
      "metadata": {
        "colab": {
          "base_uri": "https://localhost:8080/"
        },
        "id": "ezOq8ok0ExxA",
        "outputId": "8a83edb0-7986-434f-ba7f-074fa6543971"
      },
      "execution_count": 2,
      "outputs": [
        {
          "output_type": "stream",
          "name": "stdout",
          "text": [
            "Original Image Shape: (978, 978, 3)\n",
            "Fully Annotated Image Shape: (938, 939, 3)\n",
            "Rate of Foreground (ROF): 3.0\n"
          ]
        }
      ]
    },
    {
      "cell_type": "code",
      "source": [],
      "metadata": {
        "id": "4jyMKxJ-Kbct"
      },
      "execution_count": null,
      "outputs": []
    }
  ]
}